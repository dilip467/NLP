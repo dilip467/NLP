{
 "cells": [
  {
   "cell_type": "code",
   "execution_count": 4,
   "id": "11cc4f21",
   "metadata": {},
   "outputs": [],
   "source": [
    "from gensim.models import Word2Vec\n",
    "import re\n",
    "import nltk\n",
    "from nltk.corpus import stopwords"
   ]
  },
  {
   "cell_type": "code",
   "execution_count": 6,
   "id": "2e1dd0eb",
   "metadata": {},
   "outputs": [],
   "source": [
    "paragraph = \"\"\"I have three visions for India. In 3000 years of our history, people from all over \n",
    "               the world have come and invaded us, captured our lands, conquered our minds. \n",
    "               From Alexander onwards, the Greeks, the Turks, the Moguls, the Portuguese, the British,\n",
    "               the French, the Dutch, all of them came and looted us, took over what was ours. \n",
    "               Yet we have not done this to any other nation. We have not conquered anyone. \n",
    "               We have not grabbed their land, their culture, \n",
    "               their history and tried to enforce our way of life on them. \n",
    "               Why? Because we respect the freedom of others.That is why my \n",
    "               first vision is that of freedom. I believe that India got its first vision of \n",
    "               this in 1857, when we started the War of Independence. It is this freedom that\n",
    "               we must protect and nurture and build on. If we are not free, no one will respect us.\n",
    "               My second vision for India’s development. For fifty years we have been a developing nation.\n",
    "               It is time we see ourselves as a developed nation. We are among the top 5 nations of the world\n",
    "               in terms of GDP. We have a 10 percent growth rate in most areas. Our poverty levels are falling.\n",
    "               Our achievements are being globally recognised today. Yet we lack the self-confidence to\n",
    "               see ourselves as a developed nation, self-reliant and self-assured. Isn’t this incorrect?\n",
    "               I have a third vision. India must stand up to the world. Because I believe that unless India \n",
    "               stands up to the world, no one will respect us. Only strength respects strength. We must be \n",
    "               strong not only as a military power but also as an economic power. Both must go hand-in-hand. \n",
    "               My good fortune was to have worked with three great minds. Dr. Vikram Sarabhai of the Dept. of \n",
    "               space, Professor Satish Dhawan, who succeeded him and Dr. Brahm Prakash, father of nuclear material.\n",
    "               I was lucky to have worked with all three of them closely and consider this the great opportunity of my life. \n",
    "               I see four milestones in my career\"\"\""
   ]
  },
  {
   "cell_type": "code",
   "execution_count": 8,
   "id": "4abfc0ac",
   "metadata": {},
   "outputs": [],
   "source": [
    "#preprocessing the text\n",
    "text = re.sub(r'\\[[0-9]*\\]',' ',paragraph)\n",
    "text = re.sub(r'\\s+',' ',text)\n",
    "text = text.lower()\n",
    "text = re.sub(r'\\d',' ',text)\n",
    "text = re.sub(r'\\s+',' ',text)"
   ]
  },
  {
   "cell_type": "code",
   "execution_count": 14,
   "id": "a4e8c77f",
   "metadata": {},
   "outputs": [],
   "source": [
    "#preparinng the dataset\n",
    "sentences=nltk.sent_tokenize(paragraph)\n",
    "sentences=[nltk.word_tokenize(sentence) for sentence in sentences]\n",
    "\n",
    "for i in range(len(sentences)):\n",
    "    sentences[i]=[word for word in  sentences[i] if word not in set(stopwords.words('english'))]"
   ]
  },
  {
   "cell_type": "code",
   "execution_count": 16,
   "id": "edfa4029",
   "metadata": {},
   "outputs": [],
   "source": [
    "#training the model\n",
    "model=Word2Vec(sentences,min_count=1)"
   ]
  },
  {
   "cell_type": "code",
   "execution_count": 28,
   "id": "63f4ec04",
   "metadata": {},
   "outputs": [],
   "source": [
    "words = model.wv.index_to_key"
   ]
  },
  {
   "cell_type": "code",
   "execution_count": 30,
   "id": "6b71f50f",
   "metadata": {},
   "outputs": [
    {
     "name": "stdout",
     "output_type": "stream",
     "text": [
      "['.', ',', 'I', 'India', 'We', 'us', 'nation', 'must', 'vision', 'world', 'see', 'respect', 'three', 'freedom', '?', 'Because', 'life', 'Our', 'believe', 'first', 'power', 'developed', 'It', '’', 'My', 'strength', 'Yet', 'great', 'worked', 'years', 'history', 'conquered', 'minds', 'Dr.', 'one', 'came', 'others.That', 'invaded', 'come', 'got', '1857', 'started', 'War', 'Independence', 'people', 'Greeks', 'Portuguese', '3000', 'protect', 'nurture', 'build', 'In', 'If', 'visions', 'captured', 'lands', 'looted', 'British', 'took', 'free', 'done', 'Alexander', 'From', 'anyone', 'grabbed', 'land', 'culture', 'tried', 'enforce', 'way', 'onwards', 'Why', 'Moguls', 'Dutch', 'French', 'Turks', 'career', 'second', 'development', 'Only', 'respects', 'strong', 'military', 'also', 'economic', 'Both', 'go', 'hand-in-hand', 'good', 'fortune', 'Vikram', 'Sarabhai', 'Dept', 'space', 'Professor', 'Satish', 'Dhawan', 'succeeded', 'Brahm', 'Prakash', 'father', 'nuclear', 'material', 'lucky', 'closely', 'consider', 'opportunity', 'four', 'stands', 'unless', 'stand', 'rate', 'milestones', 'fifty', 'developing', 'time', 'among', 'top', '5', 'nations', 'terms', 'GDP', '10', 'percent', 'growth', 'areas', 'third', 'poverty', 'levels', 'falling', 'achievements', 'globally', 'recognised', 'today', 'lack', 'self-confidence', 'self-reliant', 'self-assured', 'Isn', 'incorrect', 'For']\n"
     ]
    }
   ],
   "source": [
    "print(words)"
   ]
  },
  {
   "cell_type": "code",
   "execution_count": 33,
   "id": "017bbc17",
   "metadata": {},
   "outputs": [
    {
     "name": "stdout",
     "output_type": "stream",
     "text": [
      "100\n"
     ]
    }
   ],
   "source": [
    "# Finding Word Vectors\n",
    "vector = model.wv['Alexander']\n",
    "print(len(vector)) #diemension for each word"
   ]
  },
  {
   "cell_type": "code",
   "execution_count": 36,
   "id": "3e5e826a",
   "metadata": {},
   "outputs": [
    {
     "name": "stdout",
     "output_type": "stream",
     "text": [
      "[('consider', 0.24496370553970337), ('succeeded', 0.22996018826961517), ('invaded', 0.22078141570091248), ('others.That', 0.21178491413593292), ('From', 0.1816679835319519), ('captured', 0.18153977394104004), ('among', 0.17708821594715118), ('development', 0.16784265637397766), ('Alexander', 0.1605391949415207), ('tried', 0.16024087369441986)]\n"
     ]
    }
   ],
   "source": [
    "# Most similar words\n",
    "similar = model.wv.most_similar('developing')\n",
    "print(similar)"
   ]
  }
 ],
 "metadata": {
  "kernelspec": {
   "display_name": "Python 3 (ipykernel)",
   "language": "python",
   "name": "python3"
  },
  "language_info": {
   "codemirror_mode": {
    "name": "ipython",
    "version": 3
   },
   "file_extension": ".py",
   "mimetype": "text/x-python",
   "name": "python",
   "nbconvert_exporter": "python",
   "pygments_lexer": "ipython3",
   "version": "3.10.9"
  }
 },
 "nbformat": 4,
 "nbformat_minor": 5
}
