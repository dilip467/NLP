{
 "cells": [
  {
   "cell_type": "code",
   "execution_count": 1,
   "id": "e8d92fc9",
   "metadata": {},
   "outputs": [],
   "source": [
    "import nltk"
   ]
  },
  {
   "cell_type": "code",
   "execution_count": null,
   "id": "c10d5d76",
   "metadata": {},
   "outputs": [],
   "source": [
    "# nltk.download()"
   ]
  },
  {
   "cell_type": "code",
   "execution_count": 9,
   "id": "a2e72907",
   "metadata": {},
   "outputs": [],
   "source": [
    "paragraph=\"\"\"Shreyas Iyer is a talented Indian cricketer known for his elegant batting style and excellent technique.\n",
    "Born on December 6, 1994, in Mumbai, Iyer made his debut for the Indian national cricket team in 2017.\n",
    "He has represented India in both One Day Internationals (ODIs) and Twenty20 Internationals (T20Is) and has been a key contributor to the team's success.\n",
    "Iyer is admired for his ability to play both aggressive shots and anchor the innings, showcasing his versatility as a middle-order batsman.\n",
    "Besides his cricketing skills, Iyer is also praised for his leadership qualities, having captained the Delhi Capitals (formerly Delhi Daredevils) in the Indian Premier League (IPL) with great success.\"\"\""
   ]
  },
  {
   "cell_type": "code",
   "execution_count": 10,
   "id": "996db4b4",
   "metadata": {},
   "outputs": [],
   "source": [
    "sentences=nltk.sent_tokenize(paragraph)"
   ]
  },
  {
   "cell_type": "code",
   "execution_count": 11,
   "id": "ab4bd7ae",
   "metadata": {},
   "outputs": [],
   "source": [
    "words=nltk.word_tokenize(paragraph)"
   ]
  },
  {
   "cell_type": "code",
   "execution_count": 12,
   "id": "f49b878f",
   "metadata": {},
   "outputs": [],
   "source": [
    "from nltk.stem import PorterStemmer\n",
    "from nltk.corpus import stopwords"
   ]
  },
  {
   "cell_type": "code",
   "execution_count": 13,
   "id": "0bfaa4e1",
   "metadata": {},
   "outputs": [],
   "source": [
    "stemmer=PorterStemmer()"
   ]
  },
  {
   "cell_type": "code",
   "execution_count": 14,
   "id": "da1bf4b5",
   "metadata": {},
   "outputs": [],
   "source": [
    "for i in range(len(sentences)):\n",
    "    words= nltk.word_tokenize(sentences[i])\n",
    "    words=[stemmer.stem(word) for word in words if word not in set(stopwords.words('english'))]\n",
    "    sentences[i]=' '.join(words)"
   ]
  },
  {
   "cell_type": "code",
   "execution_count": 15,
   "id": "bd918dec",
   "metadata": {},
   "outputs": [
    {
     "name": "stdout",
     "output_type": "stream",
     "text": [
      "['shreya iyer talent indian cricket known eleg bat style excel techniqu .', 'born decemb 6 , 1994 , mumbai , iyer made debut indian nation cricket team 2017 .', \"he repres india one day intern ( odi ) twenty20 intern ( t20i ) key contributor team 's success .\", 'iyer admir abil play aggress shot anchor inning , showcas versatil middle-ord batsman .', 'besid cricket skill , iyer also prais leadership qualiti , captain delhi capit ( formerli delhi daredevil ) indian premier leagu ( ipl ) great success .']\n"
     ]
    }
   ],
   "source": [
    "sentences=nltk.sent_tokenize(paragraph)"
   ]
  },
  {
   "cell_type": "code",
   "execution_count": 16,
   "id": "1b4fe0cd",
   "metadata": {},
   "outputs": [],
   "source": [
    "from nltk.stem import WordNetLemmatizer"
   ]
  },
  {
   "cell_type": "code",
   "execution_count": 17,
   "id": "c6a6ce6c",
   "metadata": {},
   "outputs": [],
   "source": [
    "lemmatizer=WordNetLemmatizer()"
   ]
  },
  {
   "cell_type": "code",
   "execution_count": 18,
   "id": "1ed2e24a",
   "metadata": {},
   "outputs": [],
   "source": [
    "for i in range(len(sentences)):\n",
    "    words= nltk.word_tokenize(sentences[i])\n",
    "    words=[lemmatizer.lemmatize(word) for word in words if word not in set(stopwords.words('english'))]\n",
    "    sentences[i]=' '.join(words)"
   ]
  },
  {
   "cell_type": "code",
   "execution_count": 20,
   "id": "d8d9ff55",
   "metadata": {},
   "outputs": [
    {
     "name": "stdout",
     "output_type": "stream",
     "text": [
      "['shreya iyer talent indian cricket known eleg bat style excel techniqu .', 'born decemb 6 , 1994 , mumbai , iyer made debut indian nation cricket team 2017 .', \"repres india one day intern ( odi ) twenty20 intern ( t20i ) key contributor team 's success .\", 'iyer admir abil play aggress shot anchor inning , showcas versatil middle-ord batsman .', 'besid cricket skill , iyer also prais leadership qualiti , captain delhi capit ( formerli delhi daredevil ) indian premier leagu ( ipl ) great success .']\n"
     ]
    }
   ],
   "source": [
    "print(sentences)"
   ]
  },
  {
   "cell_type": "code",
   "execution_count": 21,
   "id": "fad8f7aa",
   "metadata": {},
   "outputs": [],
   "source": [
    "# implementing Bag Of Words \n",
    "# step-1: cleaning the text\n",
    "# step-2: Apllying Bag of Words using sklearn"
   ]
  },
  {
   "cell_type": "code",
   "execution_count": 27,
   "id": "1e23ba60",
   "metadata": {},
   "outputs": [],
   "source": [
    "# step-1: cleaning the text\n",
    "import re \n",
    "sentences=nltk.sent_tokenize(paragraph)\n",
    "corpus=[]\n",
    "for i in range(len(sentences)):\n",
    "    review=re.sub('[^a-zA-Z]',' ',sentences[i])\n",
    "    review=review.split()\n",
    "    review=[lemmatizer.lemmatize(word) for word in review if word not in stopwords.words('english')]\n",
    "    review=' '.join(review)\n",
    "    corpus.append(review)"
   ]
  },
  {
   "cell_type": "code",
   "execution_count": 31,
   "id": "3bedd13c",
   "metadata": {},
   "outputs": [],
   "source": [
    "# step-2: Apllying Bag of Words using sklearn\n",
    "from sklearn.feature_extraction.text import CountVectorizer\n",
    "cv=CountVectorizer()\n",
    "x=cv.fit_transform(corpus).toarray()"
   ]
  },
  {
   "cell_type": "code",
   "execution_count": 33,
   "id": "2cdd8347",
   "metadata": {},
   "outputs": [
    {
     "name": "stdout",
     "output_type": "stream",
     "text": [
      "[[0 0 0 0 0 0 1 0 0 0 0 0 0 1 0 0 0 0 0 0 1 1 0 0 0 0 1 0 0 0 0 1 0 1 0 0\n",
      "  0 0 0 0 0 0 0 0 0 0 0 0 0 0 1 0 1 0 1 0 1 0 0]\n",
      " [0 0 0 0 0 0 0 0 1 0 0 0 1 0 0 0 0 1 1 0 0 0 0 0 0 0 1 0 0 0 0 1 0 0 0 0\n",
      "  1 0 1 1 0 0 0 0 0 0 0 0 0 0 0 0 0 0 0 1 0 0 0]\n",
      " [0 0 0 0 0 0 0 0 0 0 0 1 0 0 0 0 1 0 0 0 0 0 0 0 1 1 0 0 2 0 1 0 1 0 0 0\n",
      "  0 0 0 0 1 1 0 0 0 0 0 1 0 0 0 0 0 1 0 1 0 1 0]\n",
      " [1 1 1 0 1 1 0 0 0 0 0 0 0 0 0 0 0 0 0 0 0 0 0 0 0 0 0 1 0 0 0 1 0 0 0 0\n",
      "  0 1 0 0 0 0 1 1 0 0 0 0 1 1 0 0 0 0 0 0 0 0 1]\n",
      " [0 0 0 1 0 0 0 1 0 1 1 0 0 0 1 1 0 0 0 2 0 0 1 1 0 0 1 0 0 1 0 1 0 0 1 1\n",
      "  0 0 0 0 0 0 0 0 1 1 1 0 0 0 0 1 0 1 0 0 0 0 0]]\n"
     ]
    }
   ],
   "source": [
    "print(x)"
   ]
  },
  {
   "cell_type": "code",
   "execution_count": 36,
   "id": "11bdcf58",
   "metadata": {},
   "outputs": [],
   "source": [
    "# Applying TF-IDF \n",
    "from sklearn.feature_extraction.text import TfidfVectorizer\n",
    "tfidf=TfidfVectorizer()\n",
    "x=tfidf.fit_transform(corpus).toarray()"
   ]
  },
  {
   "cell_type": "code",
   "execution_count": 37,
   "id": "a3540a6c",
   "metadata": {},
   "outputs": [
    {
     "name": "stdout",
     "output_type": "stream",
     "text": [
      "[[0.         0.         0.         0.         0.         0.\n",
      "  0.31999527 0.         0.         0.         0.         0.\n",
      "  0.         0.31999527 0.         0.         0.         0.\n",
      "  0.         0.         0.31999527 0.31999527 0.         0.\n",
      "  0.         0.         0.21430456 0.         0.         0.\n",
      "  0.         0.18027975 0.         0.31999527 0.         0.\n",
      "  0.         0.         0.         0.         0.         0.\n",
      "  0.         0.         0.         0.         0.         0.\n",
      "  0.         0.         0.31999527 0.         0.31999527 0.\n",
      "  0.31999527 0.         0.31999527 0.         0.        ]\n",
      " [0.         0.         0.         0.         0.         0.\n",
      "  0.         0.         0.34468766 0.         0.         0.\n",
      "  0.34468766 0.         0.         0.         0.         0.34468766\n",
      "  0.34468766 0.         0.         0.         0.         0.\n",
      "  0.         0.         0.23084134 0.         0.         0.\n",
      "  0.         0.19419101 0.         0.         0.         0.\n",
      "  0.34468766 0.         0.34468766 0.34468766 0.         0.\n",
      "  0.         0.         0.         0.         0.         0.\n",
      "  0.         0.         0.         0.         0.         0.\n",
      "  0.         0.27809183 0.         0.         0.        ]\n",
      " [0.         0.         0.         0.         0.         0.\n",
      "  0.         0.         0.         0.         0.         0.25563969\n",
      "  0.         0.         0.         0.         0.25563969 0.\n",
      "  0.         0.         0.         0.         0.         0.\n",
      "  0.25563969 0.25563969 0.         0.         0.51127938 0.\n",
      "  0.25563969 0.         0.25563969 0.         0.         0.\n",
      "  0.         0.         0.         0.         0.25563969 0.25563969\n",
      "  0.         0.         0.         0.         0.         0.25563969\n",
      "  0.         0.         0.         0.         0.         0.20624849\n",
      "  0.         0.20624849 0.         0.25563969 0.        ]\n",
      " [0.28493151 0.28493151 0.28493151 0.         0.28493151 0.28493151\n",
      "  0.         0.         0.         0.         0.         0.\n",
      "  0.         0.         0.         0.         0.         0.\n",
      "  0.         0.         0.         0.         0.         0.\n",
      "  0.         0.         0.         0.28493151 0.         0.\n",
      "  0.         0.16052544 0.         0.         0.         0.\n",
      "  0.         0.28493151 0.         0.         0.         0.\n",
      "  0.28493151 0.28493151 0.         0.         0.         0.\n",
      "  0.28493151 0.28493151 0.         0.         0.         0.\n",
      "  0.         0.         0.         0.         0.28493151]\n",
      " [0.         0.         0.         0.22131245 0.         0.\n",
      "  0.         0.22131245 0.         0.22131245 0.22131245 0.\n",
      "  0.         0.         0.22131245 0.22131245 0.         0.\n",
      "  0.         0.4426249  0.         0.         0.22131245 0.22131245\n",
      "  0.         0.         0.14821553 0.         0.         0.22131245\n",
      "  0.         0.12468357 0.         0.         0.22131245 0.22131245\n",
      "  0.         0.         0.         0.         0.         0.\n",
      "  0.         0.         0.22131245 0.22131245 0.22131245 0.\n",
      "  0.         0.         0.         0.22131245 0.         0.17855349\n",
      "  0.         0.         0.         0.         0.        ]]\n"
     ]
    }
   ],
   "source": [
    "print(x)"
   ]
  },
  {
   "cell_type": "code",
   "execution_count": null,
   "id": "df91b014",
   "metadata": {},
   "outputs": [],
   "source": []
  }
 ],
 "metadata": {
  "kernelspec": {
   "display_name": "Python 3 (ipykernel)",
   "language": "python",
   "name": "python3"
  },
  "language_info": {
   "codemirror_mode": {
    "name": "ipython",
    "version": 3
   },
   "file_extension": ".py",
   "mimetype": "text/x-python",
   "name": "python",
   "nbconvert_exporter": "python",
   "pygments_lexer": "ipython3",
   "version": "3.10.9"
  }
 },
 "nbformat": 4,
 "nbformat_minor": 5
}
